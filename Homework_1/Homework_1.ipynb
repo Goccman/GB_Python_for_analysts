{
  "nbformat": 4,
  "nbformat_minor": 0,
  "metadata": {
    "colab": {
      "provenance": []
    },
    "kernelspec": {
      "name": "python3",
      "display_name": "Python 3"
    },
    "language_info": {
      "name": "python"
    }
  },
  "cells": [
    {
      "cell_type": "markdown",
      "source": [
        "## 2 задача\n",
        "На складе лежат разные фрукты в разном количестве.\n",
        "Нужно написать функцию, которая на вход принимает любое количество названий фруктов и их количество, а возвращает общее количество фруктов на складе при помощи использования kwargs\n",
        "\n"
      ],
      "metadata": {
        "id": "JkRVEZ91vHtq"
      }
    },
    {
      "cell_type": "code",
      "source": [
        "def fruits(**kwargs):\n",
        "   total = 0\n",
        "   for count in kwargs.values():\n",
        "        total += count\n",
        "   return total"
      ],
      "metadata": {
        "id": "vAT4JFTovtMV"
      },
      "execution_count": 2,
      "outputs": []
    },
    {
      "cell_type": "code",
      "source": [
        "print(fruits(apples=10, oranges=20, bananas=5))"
      ],
      "metadata": {
        "colab": {
          "base_uri": "https://localhost:8080/"
        },
        "id": "1hBoJ4-Ux4WH",
        "outputId": "9c9b9c3e-f764-4ca0-d881-c8a534c08809"
      },
      "execution_count": 3,
      "outputs": [
        {
          "output_type": "stream",
          "name": "stdout",
          "text": [
            "35\n"
          ]
        }
      ]
    },
    {
      "cell_type": "markdown",
      "source": [
        "## 3 задача\n",
        "Дан список с затратами на рекламу. Но в данных есть ошибки, некоторые затраты имеют отрицательную величину. Удалите такие значения из списка и посчитайте суммарные затраты  \n",
        "``` [100, 125, -90, 345, 655, -1, 0, 200] ```  \n",
        "Используйте list comprehensions"
      ],
      "metadata": {
        "id": "HCeigliJyFZ8"
      }
    },
    {
      "cell_type": "code",
      "source": [
        "expenses = [100, 125, -90, 345, 655, -1, 0, 200]\n",
        "expenses = [i for i in expenses if i >= 0]\n",
        "total_expenses = sum(expenses)\n",
        "print(total_expenses)"
      ],
      "metadata": {
        "colab": {
          "base_uri": "https://localhost:8080/"
        },
        "id": "npXJvHS_yPX6",
        "outputId": "0dff568a-9370-4ad2-b6df-a5819db8eccf"
      },
      "execution_count": 4,
      "outputs": [
        {
          "output_type": "stream",
          "name": "stdout",
          "text": [
            "1425\n"
          ]
        }
      ]
    },
    {
      "cell_type": "markdown",
      "source": [
        "## 4 задача\n",
        "Даны два списка.  \n",
        "Дата покупки  \n",
        "``` ['2021-09-14', '2021-12-15', '2021-09-08', '2021-12-05', '2021-10-09', '2021-09-30', '2021-12-22', '2021-11-29', '2021-12-24', '2021-11-26', '2021-10-27', '2021-12-18', '2021-11-09', '2021-11-23', '2021-09-27', '2021-10-02', '2021-12-27', '2021-09-20', '2021-12-13', '2021-11-01', '2021-11-09', '2021-12-06', '2021-12-08', '2021-10-09', '2021-10-31', '2021-09-30', '2021-11-09', '2021-12-13', '2021-10-26', '2021-12-09'] ```  \n",
        "Суммы покупок по датам    \n",
        "``` [1270, 8413, 9028, 3703, 5739, 4095, 295, 4944, 5723, 3701, 4471, 651, 7037, 4274, 6275, 4988, 6930, 2971, 6592, 2004, 2822, 519, 3406, 2732, 5015, 2008, 316, 6333, 5700, 2887] ```"
      ],
      "metadata": {
        "id": "b1zEZmZHzhTB"
      }
    },
    {
      "cell_type": "markdown",
      "source": [
        "### 4.1 Найдите, какая выручка у компании в ноябре\n",
        "Используйте list comprehensions"
      ],
      "metadata": {
        "id": "m8f9A9uV0osZ"
      }
    },
    {
      "cell_type": "code",
      "source": [
        "dates = ['2021-09-14', '2021-12-15', '2021-09-08', '2021-12-05', '2021-10-09', '2021-09-30', '2021-12-22', '2021-11-29', \n",
        "         '2021-12-24', '2021-11-26', '2021-10-27', '2021-12-18', '2021-11-09', '2021-11-23', '2021-09-27', '2021-10-02', \n",
        "         '2021-12-27', '2021-09-20', '2021-12-13', '2021-11-01', '2021-11-09', '2021-12-06', '2021-12-08', '2021-10-09', \n",
        "         '2021-10-31', '2021-09-30', '2021-11-09', '2021-12-13', '2021-10-26', '2021-12-09']\n",
        "purchases = [1270, 8413, 9028, 3703, 5739, 4095, 295, 4944, 5723, 3701, 4471, 651, 7037, 4274, 6275,\n",
        "             4988, 6930, 2971, 6592, 2004, 2822, 519, 3406, 2732, 5015, 2008, 316, 6333, 5700, 2887]\n",
        "\n",
        "november_purchases = [purchase for i, purchase in enumerate(purchases) if dates[i].startswith('2021-11')]\n",
        "total_november_revenue = sum(november_purchases)\n",
        "\n",
        "print(total_november_revenue) \n"
      ],
      "metadata": {
        "colab": {
          "base_uri": "https://localhost:8080/"
        },
        "id": "3v7uw6tx1CMA",
        "outputId": "bee2abb2-e455-4848-98b7-77c910f8ea40"
      },
      "execution_count": 6,
      "outputs": [
        {
          "output_type": "stream",
          "name": "stdout",
          "text": [
            "25098\n"
          ]
        }
      ]
    },
    {
      "cell_type": "markdown",
      "source": [
        "### 4.2 Найдите выручку компании в зависимости от месяца\n",
        "Для этого напишите функцию, которая на вход принимает список с датами и список с выручкой, а на выходе словарь, где ключи - это месяцы, а значения - это выручка. Используйте аннотирование типов."
      ],
      "metadata": {
        "id": "f0slK9iG4sOx"
      }
    },
    {
      "cell_type": "code",
      "source": [
        "from datetime import datetime\n",
        "from typing import List, Dict\n",
        "\n",
        "def revenue_by_month(dates: List[str], revenue: List[int]) -> Dict[str, int]:\n",
        "    revenue_by_month = {}\n",
        "    for date, amount in zip(dates, revenue):\n",
        "        month = datetime.strptime(date, '%Y-%m-%d').strftime('%Y-%m')\n",
        "        if month in revenue_by_month:\n",
        "            revenue_by_month[month] += amount\n",
        "        else:\n",
        "            revenue_by_month[month] = amount\n",
        "    return revenue_by_month"
      ],
      "metadata": {
        "id": "RCPiKrwP425x"
      },
      "execution_count": 7,
      "outputs": []
    },
    {
      "cell_type": "code",
      "source": [
        "result = revenue_by_month(dates, purchases)\n",
        "print(result)"
      ],
      "metadata": {
        "colab": {
          "base_uri": "https://localhost:8080/"
        },
        "id": "wPHHNa_o6JVO",
        "outputId": "8bc35861-07e2-4912-ee9e-50d3cba0c0d8"
      },
      "execution_count": 8,
      "outputs": [
        {
          "output_type": "stream",
          "name": "stdout",
          "text": [
            "{'2021-09': 25647, '2021-12': 45452, '2021-10': 28645, '2021-11': 25098}\n"
          ]
        }
      ]
    }
  ]
}